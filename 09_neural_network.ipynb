{
 "cells": [
  {
   "cell_type": "code",
   "execution_count": 1,
   "id": "QT9YuRxSLfP9",
   "metadata": {
    "colab": {
     "base_uri": "https://localhost:8080/"
    },
    "id": "QT9YuRxSLfP9",
    "outputId": "fce77831-851a-40f2-ae73-68e1a84c90d5"
   },
   "outputs": [
    {
     "name": "stdout",
     "output_type": "stream",
     "text": [
      "Mounted at /content/drive\n"
     ]
    }
   ],
   "source": [
    "from google.colab import drive\n",
    "drive.mount('/content/drive')"
   ]
  },
  {
   "cell_type": "code",
   "execution_count": 2,
   "id": "5pwH1c7vRADy",
   "metadata": {
    "colab": {
     "base_uri": "https://localhost:8080/"
    },
    "id": "5pwH1c7vRADy",
    "outputId": "9fdaa461-c957-4614-d130-e5ea531d936c"
   },
   "outputs": [
    {
     "name": "stdout",
     "output_type": "stream",
     "text": [
      "Archive:  /content/drive/MyDrive/Colab Notebooks/GeneralDS/data/oxfords_flowers.zip\n",
      "  inflating: oxfords_flowers_test.bin  \n",
      "  inflating: oxfords_flowers_train.bin  \n",
      "  inflating: oxfords_flowers_valid.bin  \n"
     ]
    }
   ],
   "source": [
    "import zipfile\n",
    "\n",
    "!unzip '/content/drive/MyDrive/Colab Notebooks/GeneralDS/data/oxfords_flowers.zip'"
   ]
  },
  {
   "cell_type": "code",
   "execution_count": 3,
   "id": "CN_iRjmtw6pA",
   "metadata": {
    "id": "CN_iRjmtw6pA"
   },
   "outputs": [],
   "source": [
    "import numpy as np\n",
    "import pandas as pd"
   ]
  },
  {
   "cell_type": "code",
   "execution_count": 4,
   "id": "pNO_emFg5rdn",
   "metadata": {
    "id": "pNO_emFg5rdn"
   },
   "outputs": [],
   "source": [
    "def read_data(file_path):\n",
    "    with open(file_path, 'rb') as f:\n",
    "\n",
    "        header = np.fromfile(f, dtype=np.uint32, count=4)\n",
    "        num_samples, rows, columns, num_channels = header\n",
    "\n",
    "        X = np.fromfile(f, dtype=np.uint8, count=num_samples * rows * columns * num_channels)\n",
    "        X = X.reshape(num_samples, rows, columns, num_channels)\n",
    "\n",
    "        Y = np.fromfile(f, dtype=np.uint8)\n",
    "        return X, Y\n",
    "\n",
    "x_train, y_train = read_data('oxfords_flowers_train.bin')\n",
    "x_valid, y_valid = read_data('oxfords_flowers_valid.bin')\n",
    "x_test,  y_test  = read_data('oxfords_flowers_test.bin')"
   ]
  },
  {
   "cell_type": "markdown",
   "id": "6TPlcdbU7UR5",
   "metadata": {
    "id": "6TPlcdbU7UR5"
   },
   "source": [
    "The classes starts from 1 to 102, But the result of the last layer in fully connected neural network starts from 0. So we should decreament from them"
   ]
  },
  {
   "cell_type": "code",
   "execution_count": 5,
   "id": "kQS4usBj61Yq",
   "metadata": {
    "id": "kQS4usBj61Yq"
   },
   "outputs": [],
   "source": [
    "y_train = y_train - 1\n",
    "y_valid = y_valid - 1\n",
    "y_test  = y_test  - 1"
   ]
  },
  {
   "cell_type": "markdown",
   "id": "_fcrn4cs_73h",
   "metadata": {
    "id": "_fcrn4cs_73h"
   },
   "source": [
    "### Dimensional reduction\n",
    "\n",
    "\n",
    "\n",
    "PCA just accepts the dimentional lower or equall than 2, So we need convert every 100*100*3 image pixels into a 30000 flatten array"
   ]
  },
  {
   "cell_type": "code",
   "execution_count": null,
   "id": "cp69fJaJ74GV",
   "metadata": {
    "colab": {
     "base_uri": "https://localhost:8080/",
     "height": 74
    },
    "id": "cp69fJaJ74GV",
    "outputId": "b2d98dd8-6e3d-408f-dcd8-3c47b8f12c3a"
   },
   "outputs": [
    {
     "data": {
      "text/html": [
       "<style>#sk-container-id-1 {color: black;background-color: white;}#sk-container-id-1 pre{padding: 0;}#sk-container-id-1 div.sk-toggleable {background-color: white;}#sk-container-id-1 label.sk-toggleable__label {cursor: pointer;display: block;width: 100%;margin-bottom: 0;padding: 0.3em;box-sizing: border-box;text-align: center;}#sk-container-id-1 label.sk-toggleable__label-arrow:before {content: \"▸\";float: left;margin-right: 0.25em;color: #696969;}#sk-container-id-1 label.sk-toggleable__label-arrow:hover:before {color: black;}#sk-container-id-1 div.sk-estimator:hover label.sk-toggleable__label-arrow:before {color: black;}#sk-container-id-1 div.sk-toggleable__content {max-height: 0;max-width: 0;overflow: hidden;text-align: left;background-color: #f0f8ff;}#sk-container-id-1 div.sk-toggleable__content pre {margin: 0.2em;color: black;border-radius: 0.25em;background-color: #f0f8ff;}#sk-container-id-1 input.sk-toggleable__control:checked~div.sk-toggleable__content {max-height: 200px;max-width: 100%;overflow: auto;}#sk-container-id-1 input.sk-toggleable__control:checked~label.sk-toggleable__label-arrow:before {content: \"▾\";}#sk-container-id-1 div.sk-estimator input.sk-toggleable__control:checked~label.sk-toggleable__label {background-color: #d4ebff;}#sk-container-id-1 div.sk-label input.sk-toggleable__control:checked~label.sk-toggleable__label {background-color: #d4ebff;}#sk-container-id-1 input.sk-hidden--visually {border: 0;clip: rect(1px 1px 1px 1px);clip: rect(1px, 1px, 1px, 1px);height: 1px;margin: -1px;overflow: hidden;padding: 0;position: absolute;width: 1px;}#sk-container-id-1 div.sk-estimator {font-family: monospace;background-color: #f0f8ff;border: 1px dotted black;border-radius: 0.25em;box-sizing: border-box;margin-bottom: 0.5em;}#sk-container-id-1 div.sk-estimator:hover {background-color: #d4ebff;}#sk-container-id-1 div.sk-parallel-item::after {content: \"\";width: 100%;border-bottom: 1px solid gray;flex-grow: 1;}#sk-container-id-1 div.sk-label:hover label.sk-toggleable__label {background-color: #d4ebff;}#sk-container-id-1 div.sk-serial::before {content: \"\";position: absolute;border-left: 1px solid gray;box-sizing: border-box;top: 0;bottom: 0;left: 50%;z-index: 0;}#sk-container-id-1 div.sk-serial {display: flex;flex-direction: column;align-items: center;background-color: white;padding-right: 0.2em;padding-left: 0.2em;position: relative;}#sk-container-id-1 div.sk-item {position: relative;z-index: 1;}#sk-container-id-1 div.sk-parallel {display: flex;align-items: stretch;justify-content: center;background-color: white;position: relative;}#sk-container-id-1 div.sk-item::before, #sk-container-id-1 div.sk-parallel-item::before {content: \"\";position: absolute;border-left: 1px solid gray;box-sizing: border-box;top: 0;bottom: 0;left: 50%;z-index: -1;}#sk-container-id-1 div.sk-parallel-item {display: flex;flex-direction: column;z-index: 1;position: relative;background-color: white;}#sk-container-id-1 div.sk-parallel-item:first-child::after {align-self: flex-end;width: 50%;}#sk-container-id-1 div.sk-parallel-item:last-child::after {align-self: flex-start;width: 50%;}#sk-container-id-1 div.sk-parallel-item:only-child::after {width: 0;}#sk-container-id-1 div.sk-dashed-wrapped {border: 1px dashed gray;margin: 0 0.4em 0.5em 0.4em;box-sizing: border-box;padding-bottom: 0.4em;background-color: white;}#sk-container-id-1 div.sk-label label {font-family: monospace;font-weight: bold;display: inline-block;line-height: 1.2em;}#sk-container-id-1 div.sk-label-container {text-align: center;}#sk-container-id-1 div.sk-container {/* jupyter's `normalize.less` sets `[hidden] { display: none; }` but bootstrap.min.css set `[hidden] { display: none !important; }` so we also need the `!important` here to be able to override the default hidden behavior on the sphinx rendered scikit-learn.org. See: https://github.com/scikit-learn/scikit-learn/issues/21755 */display: inline-block !important;position: relative;}#sk-container-id-1 div.sk-text-repr-fallback {display: none;}</style><div id=\"sk-container-id-1\" class=\"sk-top-container\"><div class=\"sk-text-repr-fallback\"><pre>PCA(n_components=0.95)</pre><b>In a Jupyter environment, please rerun this cell to show the HTML representation or trust the notebook. <br />On GitHub, the HTML representation is unable to render, please try loading this page with nbviewer.org.</b></div><div class=\"sk-container\" hidden><div class=\"sk-item\"><div class=\"sk-estimator sk-toggleable\"><input class=\"sk-toggleable__control sk-hidden--visually\" id=\"sk-estimator-id-1\" type=\"checkbox\" checked><label for=\"sk-estimator-id-1\" class=\"sk-toggleable__label sk-toggleable__label-arrow\">PCA</label><div class=\"sk-toggleable__content\"><pre>PCA(n_components=0.95)</pre></div></div></div></div></div>"
      ],
      "text/plain": [
       "PCA(n_components=0.95)"
      ]
     },
     "execution_count": 31,
     "metadata": {},
     "output_type": "execute_result"
    }
   ],
   "source": [
    "from sklearn.decomposition import PCA\n",
    "\n",
    "pca = PCA(0.95)\n",
    "\n",
    "x_train_f = x_train.reshape(x_train.shape[0], -1)\n",
    "\n",
    "pca.fit(x_train_f)"
   ]
  },
  {
   "cell_type": "code",
   "execution_count": null,
   "id": "ocay6msfC1P6",
   "metadata": {
    "colab": {
     "base_uri": "https://localhost:8080/",
     "height": 467
    },
    "id": "ocay6msfC1P6",
    "outputId": "a2760eca-115c-4862-f602-155ddd07706f"
   },
   "outputs": [
    {
     "data": {
      "text/plain": [
       "Text(0, 0.5, 'Explained variance')"
      ]
     },
     "execution_count": 34,
     "metadata": {},
     "output_type": "execute_result"
    },
    {
     "data": {
      "image/png": "[encoded data removed]",
      "text/plain": [
       "<Figure size 640x480 with 1 Axes>"
      ]
     },
     "metadata": {},
     "output_type": "display_data"
    }
   ],
   "source": [
    "plt.plot(np.cumsum(pca.explained_variance_ratio_))\n",
    "plt.xlabel(\"# of PCs\")\n",
    "plt.ylabel(\"Explained variance\")"
   ]
  },
  {
   "cell_type": "code",
   "execution_count": null,
   "id": "MF8hu4o4Esh7",
   "metadata": {
    "colab": {
     "base_uri": "https://localhost:8080/"
    },
    "id": "MF8hu4o4Esh7",
    "outputId": "07818a09-d145-4271-ae12-6053e11daa64"
   },
   "outputs": [
    {
     "name": "stdout",
     "output_type": "stream",
     "text": [
      "(6149, 1529)\n"
     ]
    }
   ],
   "source": [
    "x_train_pca = pca.transform(x_train.reshape(x_train.shape[0], -1))\n",
    "x_valid_pca = pca.transform(x_valid.reshape(x_valid.shape[0], -1))\n",
    "x_test_pca = pca.transform(x_test.reshape(x_test.shape[0], -1))\n",
    "\n",
    "print(x_train_pca.shape)"
   ]
  },
  {
   "cell_type": "code",
   "execution_count": null,
   "id": "YSrZNomlFdg8",
   "metadata": {
    "colab": {
     "base_uri": "https://localhost:8080/"
    },
    "id": "YSrZNomlFdg8",
    "outputId": "729e8bae-f59b-4815-ba0e-5b2cc0a6ddf2"
   },
   "outputs": [
    {
     "name": "stdout",
     "output_type": "stream",
     "text": [
      "Model: \"sequential_13\"\n",
      "_________________________________________________________________\n",
      " Layer (type)                Output Shape              Param #   \n",
      "=================================================================\n",
      " dense_43 (Dense)            (None, 1529)              2339370   \n",
      "                                                                 \n",
      " dense_44 (Dense)            (None, 500)               765000    \n",
      "                                                                 \n",
      " dropout_30 (Dropout)        (None, 500)               0         \n",
      "                                                                 \n",
      " dense_45 (Dense)            (None, 500)               250500    \n",
      "                                                                 \n",
      " dropout_31 (Dropout)        (None, 500)               0         \n",
      "                                                                 \n",
      " dense_46 (Dense)            (None, 500)               250500    \n",
      "                                                                 \n",
      " dropout_32 (Dropout)        (None, 500)               0         \n",
      "                                                                 \n",
      " dense_47 (Dense)            (None, 500)               250500    \n",
      "                                                                 \n",
      " dropout_33 (Dropout)        (None, 500)               0         \n",
      "                                                                 \n",
      " dense_48 (Dense)            (None, 500)               250500    \n",
      "                                                                 \n",
      " dropout_34 (Dropout)        (None, 500)               0         \n",
      "                                                                 \n",
      " dense_49 (Dense)            (None, 102)               51102     \n",
      "                                                                 \n",
      "=================================================================\n",
      "Total params: 4,157,472\n",
      "Trainable params: 4,157,472\n",
      "Non-trainable params: 0\n",
      "_________________________________________________________________\n"
     ]
    }
   ],
   "source": [
    "from tensorflow.keras import regularizers\n",
    "from tensorflow.keras.models import Sequential\n",
    "from tensorflow.keras.layers import Dense, Softmax, Dropout, Flatten\n",
    "from tensorflow.keras.activations import relu, sigmoid, tanh\n",
    "from tensorflow.keras.callbacks import EarlyStopping, ModelCheckpoint\n",
    "from tensorflow.keras.optimizers import Adam, RMSprop\n",
    "from tensorflow.keras.regularizers import l2\n",
    "\n",
    "model = Sequential()\n",
    "\n",
    "model.add(Dense(x_train_pca.shape[1], activation=relu, kernel_regularizer=l2(1e-1), bias_regularizer=l2(1e-1), input_shape=(x_train_pca.shape[1],)))\n",
    "# model.add(Flatten(input_shape=(x_train_pca.shape[1],)))\n",
    "\n",
    "model.add(Dense(500, activation=relu, kernel_regularizer=l2(1e-1), bias_regularizer=l2(1e-1)))\n",
    "model.add(Dropout(0.2))\n",
    "model.add(Dense(500, activation=relu, kernel_regularizer=l2(1e-1), bias_regularizer=l2(1e-1)))\n",
    "model.add(Dropout(0.2))\n",
    "model.add(Dense(500, activation=relu, kernel_regularizer=l2(1e-1), bias_regularizer=l2(1e-1)))\n",
    "model.add(Dropout(0.2))\n",
    "model.add(Dense(500, activation=relu, kernel_regularizer=l2(1e-1), bias_regularizer=l2(1e-1)))\n",
    "model.add(Dropout(0.2))\n",
    "model.add(Dense(500, activation=relu, kernel_regularizer=l2(1e-1), bias_regularizer=l2(1e-1)))\n",
    "model.add(Dropout(0.2))\n",
    "\n",
    "model.add(Dense(102, activation='sigmoid', kernel_regularizer=l2(1e-4), bias_regularizer=l2(1e-4)))\n",
    "model.build()\n",
    "model.summary()"
   ]
  },
  {
   "cell_type": "code",
   "execution_count": null,
   "id": "bwPfdcoLHLAS",
   "metadata": {
    "colab": {
     "base_uri": "https://localhost:8080/"
    },
    "id": "bwPfdcoLHLAS",
    "outputId": "7094311f-dfbc-4028-8323-3ab5ff86c6fd"
   },
   "outputs": [
    {
     "name": "stdout",
     "output_type": "stream",
     "text": [
      "Epoch 1/150\n",
      "185/193 [===========================>..] - ETA: 0s - loss: 469.9613 - accuracy: 0.0169\n",
      "Epoch 1: val_loss improved from inf to 420.04202, saving model to best_weight.hdf5\n",
      "193/193 [==============================] - 4s 9ms/step - loss: 468.4533 - accuracy: 0.0169 - val_loss: 420.0420 - val_accuracy: 0.0186\n",
      "...\n",
      "Epoch 75/150\n",
      "186/193 [===========================>..] - ETA: 0s - loss: 3.1467 - accuracy: 0.5565\n",
      "Epoch 75: val_loss did not improve from 4.31364\n",
      "193/193 [==============================] - 1s 7ms/step - loss: 3.1502 - accuracy: 0.5554 - val_loss: 5.6822 - val_accuracy: 0.1373\n",
      "Epoch 75: early stopping\n"
     ]
    }
   ],
   "source": [
    "model.compile(optimizer=Adam(learning_rate = 0.0001), loss='sparse_categorical_crossentropy', metrics=['accuracy'])\n",
    "\n",
    "early_stop = 32\n",
    "earlyStop = EarlyStopping(monitor='val_loss', patience=early_stop, verbose=1, mode='auto')\n",
    "\n",
    "check_point_name = 'best_weight.hdf5'\n",
    "check_point = ModelCheckpoint(filepath = check_point_name, monitor='val_loss', verbose=1, save_best_only=True, mode='auto')\n",
    "\n",
    "history = model.fit(x_train_pca, y_train,\n",
    "                    batch_size=32,\n",
    "                    epochs=150,\n",
    "                    verbose=1,\n",
    "                    validation_data=(x_valid_pca, y_valid),\n",
    "                    callbacks=[earlyStop, check_point],\n",
    "                    shuffle=True)"
   ]
  },
  {
   "cell_type": "markdown",
   "id": "ZDINwz-BJ78R",
   "metadata": {
    "id": "ZDINwz-BJ78R"
   },
   "source": [
    "As you can see, the first model with PCA of 95% accuracy has 52% accuracy in training data and 12% in validation data `at the same time`\n",
    "So the early stoping cuts the training process. next we try `Data Agmentation` like flipping images or shifting into four direction to decrease the rate of Overfit"
   ]
  },
  {
   "cell_type": "code",
   "execution_count": null,
   "id": "xwq0bZiuUZzk",
   "metadata": {
    "colab": {
     "base_uri": "https://localhost:8080/",
     "height": 472
    },
    "id": "xwq0bZiuUZzk",
    "outputId": "8ccee321-df71-4b04-c314-cce5244d3b9f"
   },
   "outputs": [
    {
     "data": {
      "image/png": "[encoded data removed]",
      "text/plain": [
       "<Figure size 640x480 with 1 Axes>"
      ]
     },
     "metadata": {},
     "output_type": "display_data"
    }
   ],
   "source": [
    "loss = history.history['loss']\n",
    "val_loss = history.history['val_loss']\n",
    "\n",
    "epochs = range(1, len(loss) + 1)\n",
    "SKIP = 5\n",
    "plt.plot(epochs[SKIP:], loss[SKIP:], 'g.', label='Training loss')\n",
    "plt.plot(epochs[SKIP:], val_loss[SKIP:], 'b.', label='Validation loss')\n",
    "plt.title('Training and validation loss')\n",
    "plt.xlabel('Epochs')\n",
    "plt.ylabel('Loss')\n",
    "plt.legend()\n",
    "plt.show()"
   ]
  },
  {
   "cell_type": "code",
   "execution_count": null,
   "id": "ffdIpLuUWCPq",
   "metadata": {
    "colab": {
     "base_uri": "https://localhost:8080/",
     "height": 472
    },
    "id": "ffdIpLuUWCPq",
    "outputId": "d0d41fb8-84a2-4ad7-f347-a19b3be243a7"
   },
   "outputs": [
    {
     "data": {
      "image/png": "[encoded data removed]",
      "text/plain": [
       "<Figure size 640x480 with 1 Axes>"
      ]
     },
     "metadata": {},
     "output_type": "display_data"
    }
   ],
   "source": [
    "plt.plot(epochs[SKIP:], loss[SKIP:], 'g.', label='Training loss')\n",
    "plt.plot(epochs[SKIP:], val_loss[SKIP:], 'b.', label='Validation loss')\n",
    "plt.title('Training and validation loss')\n",
    "plt.xlabel('Epochs')\n",
    "plt.ylabel('Loss')\n",
    "plt.legend()\n",
    "plt.ylim(0, 25)\n",
    "plt.xlim(25, 75)\n",
    "plt.show()"
   ]
  },
  {
   "cell_type": "code",
   "execution_count": 18,
   "id": "ZUPEGaTFOQdK",
   "metadata": {
    "id": "ZUPEGaTFOQdK"
   },
   "outputs": [],
   "source": [
    "from tensorflow.keras.preprocessing.image import ImageDataGenerator\n",
    "\n",
    "data_generator = ImageDataGenerator(rotation_range=90,\n",
    "                                    width_shift_range=0.2,\n",
    "                                    height_shift_range=0.2,\n",
    "                                    shear_range=0.2,\n",
    "                                    zoom_range=0.2,\n",
    "                                    horizontal_flip=True,\n",
    "                                    vertical_flip=True,\n",
    "                                    fill_mode='constant')\n",
    "\n",
    "train_generator = data_generator.flow(x_train, y_train, batch_size=1)\n",
    "valid_generator = data_generator.flow(x_valid, y_valid, batch_size=1)"
   ]
  },
  {
   "cell_type": "code",
   "execution_count": 25,
   "id": "ezRuw4k4jUXD",
   "metadata": {
    "colab": {
     "base_uri": "https://localhost:8080/"
    },
    "id": "ezRuw4k4jUXD",
    "outputId": "9c38ab53-55cb-4b50-9731-629a6747e7e1"
   },
   "outputs": [
    {
     "name": "stdout",
     "output_type": "stream",
     "text": [
      "Model: \"sequential_7\"\n",
      "_________________________________________________________________\n",
      " Layer (type)                Output Shape              Param #   \n",
      "=================================================================\n",
      " conv2d_27 (Conv2D)          (None, 98, 98, 32)        896       \n",
      "                                                                 \n",
      " activation_27 (Activation)  (None, 98, 98, 32)        0         \n",
      "                                                                 \n",
      " max_pooling2d_21 (MaxPoolin  (None, 49, 49, 32)       0         \n",
      " g2D)                                                            \n",
      "                                                                 \n",
      " conv2d_28 (Conv2D)          (None, 47, 47, 64)        18496     \n",
      "                                                                 \n",
      " activation_28 (Activation)  (None, 47, 47, 64)        0         \n",
      "                                                                 \n",
      " conv2d_29 (Conv2D)          (None, 45, 45, 64)        36928     \n",
      "                                                                 \n",
      " activation_29 (Activation)  (None, 45, 45, 64)        0         \n",
      "                                                                 \n",
      " max_pooling2d_22 (MaxPoolin  (None, 22, 22, 64)       0         \n",
      " g2D)                                                            \n",
      "                                                                 \n",
      " conv2d_30 (Conv2D)          (None, 20, 20, 128)       73856     \n",
      "                                                                 \n",
      " activation_30 (Activation)  (None, 20, 20, 128)       0         \n",
      "                                                                 \n",
      " conv2d_31 (Conv2D)          (None, 18, 18, 128)       147584    \n",
      "                                                                 \n",
      " activation_31 (Activation)  (None, 18, 18, 128)       0         \n",
      "                                                                 \n",
      " max_pooling2d_23 (MaxPoolin  (None, 9, 9, 128)        0         \n",
      " g2D)                                                            \n",
      "                                                                 \n",
      " dropout_24 (Dropout)        (None, 9, 9, 128)         0         \n",
      "                                                                 \n",
      " flatten_7 (Flatten)         (None, 10368)             0         \n",
      "                                                                 \n",
      " dense_24 (Dense)            (None, 1500)              15553500  \n",
      "                                                                 \n",
      " dropout_25 (Dropout)        (None, 1500)              0         \n",
      "                                                                 \n",
      " dense_25 (Dense)            (None, 102)               153102    \n",
      "                                                                 \n",
      "=================================================================\n",
      "Total params: 15,984,362\n",
      "Trainable params: 15,984,362\n",
      "Non-trainable params: 0\n",
      "_________________________________________________________________\n"
     ]
    }
   ],
   "source": [
    "from keras import regularizers\n",
    "\n",
    "import tensorflow as tf\n",
    "\n",
    "from tensorflow.keras.models import Sequential\n",
    "from tensorflow.keras.layers import Conv2D, MaxPooling2D, Flatten, Dense, Dropout, Activation\n",
    "from tensorflow.keras.activations import relu, sigmoid\n",
    "from tensorflow.keras.callbacks import EarlyStopping, ModelCheckpoint\n",
    "from tensorflow.keras.optimizers import Adam, RMSprop\n",
    "from keras.regularizers import l2\n",
    "\n",
    "model = Sequential()\n",
    "\n",
    "# kernels\n",
    "\n",
    "model.add(Conv2D(filters=32, kernel_size=3, kernel_regularizer=l2(1e-2), bias_regularizer=l2(1e-2), strides=1, input_shape=(100, 100, 3)))\n",
    "model.add(Activation('relu'))\n",
    "model.add(MaxPooling2D(pool_size=(2, 2)))\n",
    "\n",
    "model.add(Conv2D(filters=64, kernel_size=3, kernel_regularizer=l2(1e-2), bias_regularizer=l2(1e-2), strides=1))\n",
    "model.add(Activation('relu'))\n",
    "model.add(Conv2D(filters=64, kernel_size=3, kernel_regularizer=l2(1e-2), bias_regularizer=l2(1e-2), strides=1))\n",
    "model.add(Activation('relu'))\n",
    "model.add(MaxPooling2D(pool_size=(2, 2)))\n",
    "\n",
    "model.add(Conv2D(filters=128, kernel_size=3, kernel_regularizer=l2(1e-2), bias_regularizer=l2(1e-2), strides=1))\n",
    "model.add(Activation('relu'))\n",
    "model.add(Conv2D(filters=128, kernel_size=3, kernel_regularizer=l2(1e-2), bias_regularizer=l2(1e-2), strides=1))\n",
    "model.add(Activation('relu'))\n",
    "model.add(MaxPooling2D(pool_size=(2, 2)))\n",
    "\n",
    "model.add(Dropout(0.01))\n",
    "\n",
    "# fully connected\n",
    "\n",
    "model.add(Flatten())\n",
    "# 450\n",
    "# model.add(Dense(370, activation=relu))\n",
    "model.add(Dense(1500, activation=relu, kernel_regularizer=l2(1e-2), bias_regularizer=l2(1e-2)))\n",
    "model.add(Dropout(0.01))\n",
    "# model.add(Dense(1000, activation=relu, kernel_regularizer=l2(1e-2), bias_regularizer=l2(1e-2)))\n",
    "# model.add(Dropout(0.01))\n",
    "# model.add(Dense(500, activation=relu, kernel_regularizer=l2(1e-1), bias_regularizer=l2(1e-1)))\n",
    "# model.add(Dropout(0.5))\n",
    "\n",
    "model.add(Dense(102, activation='softmax', kernel_regularizer=l2(1e-4), bias_regularizer=l2(1e-4)))\n",
    "model.build()\n",
    "model.summary()"
   ]
  },
  {
   "cell_type": "code",
   "execution_count": 21,
   "id": "QmPe-aNFuwxt",
   "metadata": {
    "id": "QmPe-aNFuwxt"
   },
   "outputs": [],
   "source": [
    "# model.compile(optimizer=Adam(learning_rate = 0.0001), loss='sparse_categorical_crossentropy', metrics=['accuracy'])\n",
    "# tf.keras.losses.MeanSquaredError\n",
    "# early_stop = 32\n",
    "# earlyStop = EarlyStopping(monitor='val_loss', patience=early_stop, verbose=1, mode='auto')\n",
    "\n",
    "# check_point_name = 'best_weight.hdf5'\n",
    "# check_point = ModelCheckpoint(filepath = check_point_name, monitor='val_loss', verbose=1, save_best_only=True, mode='auto')\n",
    "\n",
    "# history = model.fit(x_train, y_train,\n",
    "#                     epochs=400,\n",
    "#                     verbose=1,\n",
    "#                     validation_data=(x_valid, y_valid),\n",
    "#                     callbacks=[earlyStop, check_point],\n",
    "#                     shuffle=True)"
   ]
  },
  {
   "cell_type": "code",
   "execution_count": 26,
   "id": "SHfQ_XDnmwys",
   "metadata": {
    "colab": {
     "base_uri": "https://localhost:8080/"
    },
    "id": "SHfQ_XDnmwys",
    "outputId": "2e0bcc2e-dc68-467c-e873-014c1821daa7"
   },
   "outputs": [
    {
     "name": "stdout",
     "output_type": "stream",
     "text": [
      "Epoch 1/100\n"
     ]
    },
    {
     "name": "stderr",
     "output_type": "stream",
     "text": [
      "<ipython-input-26-c8a211f6ae37>:9: UserWarning: `Model.fit_generator` is deprecated and will be removed in a future version. Please use `Model.fit`, which supports generators.\n",
      "  history = model.fit_generator(train_generator,\n"
     ]
    },
    {
     "name": "stdout",
     "output_type": "stream",
     "text": [
      "6143/6149 [============================>.] - ETA: 0s - loss: 11.5675 - accuracy: 0.0972\n",
      "Epoch 1: val_loss improved from inf to 5.40273, saving model to best_weight.hdf5\n",
      "...\n",
      "Epoch 100: val_loss did not improve from 2.61079\n",
      "6149/6149 [==============================] - 71s 12ms/step - loss: 2.1927 - accuracy: 0.5920 - val_loss: 2.7906 - val_accuracy: 0.4676\n"
     ]
    }
   ],
   "source": [
    "model.compile(optimizer=Adam(learning_rate = 0.0001), loss='sparse_categorical_crossentropy', metrics=['accuracy'])\n",
    "tf.keras.losses.MeanSquaredError\n",
    "early_stop = 32\n",
    "earlyStop = EarlyStopping(monitor='val_loss', patience=early_stop, verbose=1, mode='auto')\n",
    "\n",
    "check_point_name = 'best_weight.hdf5'\n",
    "check_point = ModelCheckpoint(filepath = check_point_name, monitor='val_loss', verbose=1, save_best_only=True, mode='auto')\n",
    "\n",
    "history = model.fit_generator(train_generator,\n",
    "                              epochs=100,\n",
    "                              verbose=1,\n",
    "                              validation_data=valid_generator,\n",
    "                              callbacks=[earlyStop, check_point],\n",
    "                              shuffle=True)"
   ]
  },
  {
   "cell_type": "code",
   "execution_count": 28,
   "id": "H_5ec7EAmwv1",
   "metadata": {
    "colab": {
     "base_uri": "https://localhost:8080/",
     "height": 472
    },
    "id": "H_5ec7EAmwv1",
    "outputId": "38abd282-5d3c-4b93-bb30-48aeb6524435"
   },
   "outputs": [
    {
     "data": {
      "image/png": "[encoded data removed]",
      "text/plain": [
       "<Figure size 640x480 with 1 Axes>"
      ]
     },
     "metadata": {},
     "output_type": "display_data"
    }
   ],
   "source": [
    "loss = history.history['loss']\n",
    "val_loss = history.history['val_loss']\n",
    "\n",
    "epochs = range(1, len(loss) + 1)\n",
    "SKIP = 1\n",
    "plt.plot(epochs[SKIP:], loss[SKIP:], 'g.', label='Training loss')\n",
    "plt.plot(epochs[SKIP:], val_loss[SKIP:], 'b.', label='Validation loss')\n",
    "plt.title('Training and validation loss')\n",
    "plt.xlabel('Epochs')\n",
    "plt.ylabel('Loss')\n",
    "plt.legend()\n",
    "plt.show()"
   ]
  },
  {
   "cell_type": "code",
   "execution_count": 1,
   "id": "LaTlmySSmwn_",
   "metadata": {
    "colab": {
     "base_uri": "https://localhost:8080/"
    },
    "id": "LaTlmySSmwn_",
    "outputId": "f402a854-9914-49c5-8992-dad88a3348dd",
    "scrolled": true
   },
   "outputs": [],
   "source": [
    "y_pred_1 = model.predict(x_test)\n",
    "y_pred = []\n",
    "for record in range(len(x_test)):\n",
    "  y_pred.append(y_pred_1[record].argmax()+1)\n",
    "\n",
    "y_pred = np.array(y_pred)\n",
    "\n",
    "from sklearn.metrics import multilabel_confusion_matrix\n",
    "y_unique = np.arange(1, 103)\n",
    "mcm = multilabel_confusion_matrix(y_test, y_pred, labels = y_unique)\n",
    "mcm"
   ]
  }
 ],
 "metadata": {
  "accelerator": "GPU",
  "colab": {
   "gpuType": "T4",
   "provenance": []
  },
  "kernelspec": {
   "display_name": "Python 3",
   "language": "python",
   "name": "python3"
  },
  "language_info": {
   "codemirror_mode": {
    "name": "ipython",
    "version": 3
   },
   "file_extension": ".py",
   "mimetype": "text/x-python",
   "name": "python",
   "nbconvert_exporter": "python",
   "pygments_lexer": "ipython3",
   "version": "3.8.10"
  }
 },
 "nbformat": 4,
 "nbformat_minor": 5
}
